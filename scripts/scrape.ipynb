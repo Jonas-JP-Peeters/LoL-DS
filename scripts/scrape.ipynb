{
 "cells": [
  {
   "cell_type": "code",
   "execution_count": 1,
   "metadata": {
    "scrolled": true
   },
   "outputs": [],
   "source": [
    "import requests\n",
    "import config"
   ]
  },
  {
   "cell_type": "code",
   "execution_count": 2,
   "metadata": {},
   "outputs": [],
   "source": [
    "URL = {\n",
    "    'base': 'https://{proxy}.api.riotgames.com/lol/{url}',\n",
    "    'bySummonerName': 'summoner/v{version}/summoners/by-name/{sumName}?api_key={apiKey}'\n",
    "}\n",
    "\n",
    "VERSION = {\n",
    "    'bySummonerName': '4'\n",
    "}"
   ]
  },
  {
   "cell_type": "code",
   "execution_count": 3,
   "metadata": {},
   "outputs": [],
   "source": [
    "class riotApi(object):\n",
    "    \n",
    "    def __init__(self, apiKey, region = 'na1'):\n",
    "        self.apiKey = apiKey\n",
    "        self.region = region\n",
    "        \n",
    "    def _request(self, apiUrl, params = {}):\n",
    "        args = {'apiKey': self.apiKey}\n",
    "        for key, value in params.items():\n",
    "            if key not in args:\n",
    "                args[key] = value\n",
    "        response = requests.get(\n",
    "            URL['base'].format(\n",
    "                proxy = self.region,\n",
    "                url = apiUrl),\n",
    "            params = args)\n",
    "        return response.json()\n",
    "    \n",
    "    def sumData(self, name):\n",
    "        apiUrl = URL['bySummonerName'].format(\n",
    "            version = VERSION['bySummonerName'],\n",
    "            sumName = name,\n",
    "            apiKey = self.apiKey)\n",
    "        return self._request(apiUrl)"
   ]
  },
  {
   "cell_type": "code",
   "execution_count": 4,
   "metadata": {},
   "outputs": [
    {
     "name": "stdout",
     "output_type": "stream",
     "text": [
      "{'id': 'BuKlXAwH11Pfbo85HDhp_b3tdLJCwBhAUS55PuNLfxFrhA0', 'accountId': 'ge5jqw_rElPl-nC6Ctnyz0jFxEXdJILtjD2VV9CJ4EUnDdw', 'puuid': 'WK4fw6iPaSHYzf-n2CUki7IjPbzTl2yqaCvBXLwm9cdbclZa2pvUpU4Cm9Jqyhjf9716nl5lYUO7Dg', 'name': 'JaFeels', 'profileIconId': 1451, 'revisionDate': 1579215674000, 'summonerLevel': 34}\n"
     ]
    }
   ],
   "source": [
    "def main():\n",
    "    api = riotApi(config.apiKey)\n",
    "    r = api.sumData('JaFeels')\n",
    "    print(r)\n",
    "    \n",
    "if __name__ == \"__main__\":\n",
    "    main()"
   ]
  },
  {
   "cell_type": "code",
   "execution_count": null,
   "metadata": {},
   "outputs": [],
   "source": []
  }
 ],
 "metadata": {
  "kernelspec": {
   "display_name": "Python 3",
   "language": "python",
   "name": "python3"
  },
  "language_info": {
   "codemirror_mode": {
    "name": "ipython",
    "version": 3
   },
   "file_extension": ".py",
   "mimetype": "text/x-python",
   "name": "python",
   "nbconvert_exporter": "python",
   "pygments_lexer": "ipython3",
   "version": "3.6.9"
  }
 },
 "nbformat": 4,
 "nbformat_minor": 4
}
