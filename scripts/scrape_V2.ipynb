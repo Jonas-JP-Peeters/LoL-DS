{
 "cells": [
  {
   "cell_type": "code",
   "execution_count": 1,
   "metadata": {
    "scrolled": true
   },
   "outputs": [],
   "source": [
    "import requests\n",
    "import config\n",
    "import pandas as pd\n",
    "import numpy as np\n",
    "from datetime import date\n",
    "import pickle\n",
    "import time\n",
    "import sqlite3"
   ]
  },
  {
   "cell_type": "code",
   "execution_count": 2,
   "metadata": {},
   "outputs": [],
   "source": [
    "URL = {\n",
    "    'base': 'https://{proxy}.api.riotgames.com/lol/{url}',\n",
    "    'summonerData': 'summoner/v{version}/summoners/by-name/{sumName}?api_key={apiKey}',\n",
    "    'leagueData': 'league/v{version}/entries/{queueType}/{tier}/{rank}?api_key={apiKey}'\n",
    "}\n",
    "\n",
    "VERSION = {\n",
    "    'summonerData': '4',\n",
    "    'leagueData': '4'\n",
    "}"
   ]
  },
  {
   "cell_type": "code",
   "execution_count": 3,
   "metadata": {},
   "outputs": [],
   "source": [
    "queueTypes = ['RANKED_SOLO_5x5', 'RANKED_FLEX_SR', 'RANKED_FLEX_TT']\n",
    "tiers = {'DIAMOND': 1, 'PLATINUM': 2, 'GOLD': 3, 'SILVER': 4, 'BRONZE': 5, 'IRON': 6}\n",
    "ranks = {'I': 1, 'II': 2, 'III': 3, 'IV': 4}"
   ]
  },
  {
   "cell_type": "code",
   "execution_count": 4,
   "metadata": {},
   "outputs": [],
   "source": [
    "class riotApi(object):\n",
    "    \n",
    "    def __init__(self, apiKey, region = 'na1'):\n",
    "        self.apiKey = apiKey\n",
    "        self.region = region\n",
    "        \n",
    "    def _request(self, apiUrl, params = {}):\n",
    "        args = {'apiKey': self.apiKey}\n",
    "        for key, value in params.items():\n",
    "            if key not in args:\n",
    "                args[key] = value\n",
    "        response = requests.get(\n",
    "            URL['base'].format(\n",
    "                proxy = self.region,\n",
    "                url = apiUrl),\n",
    "            params = args)\n",
    "        return response.json()\n",
    "    \n",
    "    def _checkConnection(self):\n",
    "        pass\n",
    "    \n",
    "    def summonerData(self, name):\n",
    "        apiUrl = URL['summonerData'].format(\n",
    "            version = VERSION['summonerData'],\n",
    "            sumName = name,\n",
    "            apiKey = self.apiKey)\n",
    "        return self._request(apiUrl)\n",
    "    \n",
    "    def leagueData(self, queueType, tier, rank):\n",
    "        apiUrl = URL['leagueData'].format(\n",
    "            version = VERSION['leagueData'],\n",
    "            queueType = queueType,\n",
    "            tier = tier,\n",
    "            rank = rank,\n",
    "            apiKey = self.apiKey)\n",
    "        return self._request(apiUrl)"
   ]
  },
  {
   "cell_type": "code",
   "execution_count": 5,
   "metadata": {},
   "outputs": [],
   "source": [
    "class sqlDatabase():\n",
    "    \n",
    "    def __init__(self, path):\n",
    "        self.path = path\n",
    "    \n",
    "    def _open(self):\n",
    "        self.db = sqlite3.connect(self.path)\n",
    "        self.cursor = self.db.cursor()\n",
    "        \n",
    "    def _close(self):\n",
    "        self.cursor.close()\n",
    "        self.db.close()\n",
    "        \n",
    "    def appendData(self, df, table):\n",
    "        self._open()\n",
    "        \n",
    "        try:\n",
    "            # Load data from sql\n",
    "            query = pd.read_sql_query(f\"SELECT * FROM {table};\", self.db)\n",
    "\n",
    "            # Merge old with new data and remove duplicates\n",
    "            df = query.append(df, ignore_index = True)\n",
    "            print(f\"{sum(df.duplicated())} duplicates deleted...\")\n",
    "            df.drop_duplicates(ignore_index = True, inplace = True)\n",
    "        \n",
    "        except:\n",
    "            pass\n",
    "        \n",
    "        # Add scraped data to the database\n",
    "        df.to_sql(table, self.db, if_exists = 'replace', index = False)\n",
    "        \n",
    "        self._close()\n",
    "        \n",
    "    def loadData(self, table):\n",
    "        self._open()\n",
    "        \n",
    "        df = pd.read_sql_query(f\"SELECT * FROM {table};\", self.db)\n",
    "        \n",
    "        self._close()\n",
    "        return df"
   ]
  },
  {
   "cell_type": "code",
   "execution_count": 6,
   "metadata": {},
   "outputs": [],
   "source": [
    "# Configure the Riot API\n",
    "api = riotApi(config.apiKey)"
   ]
  },
  {
   "cell_type": "code",
   "execution_count": 7,
   "metadata": {},
   "outputs": [],
   "source": [
    "test = api.leagueData(queueTypes[0], 'DIAMOND', 'I')"
   ]
  },
  {
   "cell_type": "code",
   "execution_count": 8,
   "metadata": {},
   "outputs": [
    {
     "data": {
      "text/plain": [
       "{'status': {'message': 'Forbidden', 'status_code': 403}}"
      ]
     },
     "execution_count": 8,
     "metadata": {},
     "output_type": "execute_result"
    }
   ],
   "source": [
    "test"
   ]
  },
  {
   "cell_type": "code",
   "execution_count": 30,
   "metadata": {
    "scrolled": true
   },
   "outputs": [],
   "source": [
    "# Request summoner data and upload the data into the database\n",
    "leagueRequest = []\n",
    "for tierKey, tierVal in tier.items():\n",
    "    for rankKey, rankVal in rank.items():\n",
    "        leagueRequest += api.leagueData(queueTypes[0], tierKey, rankKey)\n",
    "\n",
    "summonerDF = pd.DataFrame(leagueRequest)\n",
    "summonerDF['date'] = date.today()\n",
    "\n",
    "for key, val in ranks.items():\n",
    "    summonerDF.loc[summonerDF['rank'] == key, 'rank'] = val\n",
    "    \n",
    "for key, val in tiers.items():\n",
    "    summonerDF.loc[summonerDF['tier'] == key, 'tier'] = val\n",
    "\n",
    "summonerDF = summonerDF.drop(columns = ['miniSeries'])\n",
    "\n",
    "db_lol = sqlDatabase('../data/test.db')\n",
    "db_lol.appendData(summonerDF, 'SUMMONERS')"
   ]
  },
  {
   "cell_type": "code",
   "execution_count": null,
   "metadata": {},
   "outputs": [],
   "source": []
  }
 ],
 "metadata": {
  "kernelspec": {
   "display_name": "Python 3",
   "language": "python",
   "name": "python3"
  },
  "language_info": {
   "codemirror_mode": {
    "name": "ipython",
    "version": 3
   },
   "file_extension": ".py",
   "mimetype": "text/x-python",
   "name": "python",
   "nbconvert_exporter": "python",
   "pygments_lexer": "ipython3",
   "version": "3.6.9"
  }
 },
 "nbformat": 4,
 "nbformat_minor": 4
}
