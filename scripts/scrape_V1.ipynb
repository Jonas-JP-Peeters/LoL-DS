{
 "cells": [
  {
   "cell_type": "code",
   "execution_count": 1,
   "metadata": {
    "scrolled": true
   },
   "outputs": [],
   "source": [
    "import requests\n",
    "import config\n",
    "import pandas as pd\n",
    "import numpy as np\n",
    "from datetime import date\n",
    "import pickle\n",
    "import time\n",
    "import sqlite3"
   ]
  },
  {
   "cell_type": "code",
   "execution_count": 2,
   "metadata": {},
   "outputs": [],
   "source": [
    "URL = {\n",
    "    'base': 'https://{proxy}.api.riotgames.com/lol/{url}',\n",
    "    'summonerData': 'summoner/v{version}/summoners/by-name/{sumName}?api_key={apiKey}',\n",
    "    'leagueData': 'league/v{version}/entries/{queueType}/{tier}/{rank}?api_key={apiKey}'\n",
    "}\n",
    "\n",
    "VERSION = {\n",
    "    'summonerData': '4',\n",
    "    'leagueData': '4'\n",
    "}"
   ]
  },
  {
   "cell_type": "code",
   "execution_count": 3,
   "metadata": {},
   "outputs": [],
   "source": [
    "queueTypes = ['RANKED_SOLO_5x5', 'RANKED_FLEX_SR', 'RANKED_FLEX_TT']\n",
    "tiers = {'DIAMOND': 1, 'PLATINUM': 2, 'GOLD': 3, 'SILVER': 4, 'BRONZE': 5, 'IRON': 6}\n",
    "ranks = {'I': 1, 'II': 2, 'III': 3, 'IV': 4}"
   ]
  },
  {
   "cell_type": "code",
   "execution_count": 4,
   "metadata": {},
   "outputs": [],
   "source": [
    "class riotApi(object):\n",
    "    \n",
    "    def __init__(self, apiKey, region = 'na1'):\n",
    "        self.apiKey = apiKey\n",
    "        self.region = region\n",
    "        \n",
    "    def _request(self, apiUrl, params = {}):\n",
    "        args = {'apiKey': self.apiKey}\n",
    "        for key, value in params.items():\n",
    "            if key not in args:\n",
    "                args[key] = value\n",
    "        response = requests.get(\n",
    "            URL['base'].format(\n",
    "                proxy = self.region,\n",
    "                url = apiUrl),\n",
    "            params = args)\n",
    "        return response.json()\n",
    "    \n",
    "    def summonerData(self, name):\n",
    "        apiUrl = URL['summonerData'].format(\n",
    "            version = VERSION['summonerData'],\n",
    "            sumName = name,\n",
    "            apiKey = self.apiKey)\n",
    "        return self._request(apiUrl)\n",
    "    \n",
    "    def leagueData(self, queueType, tier, rank):\n",
    "        apiUrl = URL['leagueData'].format(\n",
    "            version = VERSION['leagueData'],\n",
    "            queueType = queueType,\n",
    "            tier = tier,\n",
    "            rank = rank,\n",
    "            apiKey = self.apiKey)\n",
    "        return self._request(apiUrl)"
   ]
  },
  {
   "cell_type": "code",
   "execution_count": 43,
   "metadata": {},
   "outputs": [],
   "source": [
    "class sqlDatabase():\n",
    "    \n",
    "    def __init__(self, path):\n",
    "        self.path = path\n",
    "    \n",
    "    def _open(self):\n",
    "        self.db = sqlite3.connect(self.path)\n",
    "        self.cursor = self.db.cursor()\n",
    "        \n",
    "    def _close(self):\n",
    "        self.cursor.close()\n",
    "        self.db.close()\n",
    "        \n",
    "    def loadData(self, df, table):\n",
    "        self._open()\n",
    "        # Get columns types from dataframe\n",
    "        types = {np.dtype('O'): 'text',\n",
    "            np.dtype('int64'): 'number',\n",
    "            np.dtype('bool'): 'number'}\n",
    "        \n",
    "        colTypes = [types[x] for x in list(df.dtypes)]\n",
    "        colNames = list(df.columns)\n",
    "        columns = ''\n",
    "\n",
    "        for column in zip(colNames, colTypes):\n",
    "            columns += column[0] + ' ' + column[1] + ', '\n",
    "        \n",
    "        # Create summoners table in the database\n",
    "        try:\n",
    "            self.cursor.execute(f'CREATE TABLE SUMMONERS ({columns[:-2]})')\n",
    "            self.db.commit()\n",
    "        except:\n",
    "            pass\n",
    "        \n",
    "        # Add scraped data to the database\n",
    "        df.to_sql(table, self.db, if_exists = 'append', index = False)\n",
    "        self._close()"
   ]
  },
  {
   "cell_type": "code",
   "execution_count": 6,
   "metadata": {
    "scrolled": true
   },
   "outputs": [],
   "source": [
    "api = riotApi(config.apiKey)\n",
    "leagueRequest = api.leagueData(queueTypes[0], 'DIAMOND', 'I')\n",
    "summonerDF = pd.DataFrame(leagueRequest)\n",
    "summonerDF['date'] = date.today()\n",
    "\n",
    "levelSR = []\n",
    "for name in summonerDF['summonerName']:\n",
    "    try:\n",
    "        summonerLevel = api.summonerData(name)['summonerLevel']\n",
    "        levelSR.append(summonerLevel)\n",
    "    except KeyError:\n",
    "        time.sleep(60*2)\n",
    "        summonerLevel = api.summonerData(name)['summonerLevel']\n",
    "        levelSR.append(summonerLevel)\n",
    "summonerDF['level'] = levelSR\n",
    "\n",
    "for key, val in ranks.items():\n",
    "    summonerDF.loc[summonerDF['rank'] == key, 'rank'] = val\n",
    "    \n",
    "for key, val in tiers.items():\n",
    "    summonerDF.loc[summonerDF['tier'] == key, 'tier'] = val\n",
    "\n",
    "summonerDF = summonerDF.drop(columns = ['miniSeries'])"
   ]
  },
  {
   "cell_type": "code",
   "execution_count": 38,
   "metadata": {},
   "outputs": [],
   "source": [
    "db_lol = sqlite3.connect('../data/test.db')\n",
    "sqlCursor = db_lol.cursor()\n",
    "\n",
    "# Get columns types from dataframe\n",
    "types = {np.dtype('O'): 'text',\n",
    "        np.dtype('int64'): 'number',\n",
    "        np.dtype('bool'): 'number'}\n",
    "colTypes = [types[x] for x in list(summonerDF.dtypes)]\n",
    "colNames = list(summonerDF.columns)\n",
    "columns = ''\n",
    "\n",
    "for column in zip(colNames, colTypes):\n",
    "    columns += column[0] + ' ' + column[1] + ', '\n",
    "\n",
    "    \n",
    "# Create summoners table\n",
    "try:\n",
    "    sqlCursor.execute(f'CREATE TABLE SUMMONERS ({columns[:-2]})')\n",
    "    db_lol.commit()\n",
    "except:\n",
    "    pass\n",
    "\n",
    "# Add scraped data to the database\n",
    "summonerDF.to_sql('SUMMONERS', db_lol,\n",
    "                  if_exists = 'append', index = False)\n",
    "\n",
    "sqlCursor.close()\n",
    "db_lol.close()"
   ]
  },
  {
   "cell_type": "code",
   "execution_count": null,
   "metadata": {},
   "outputs": [],
   "source": []
  }
 ],
 "metadata": {
  "kernelspec": {
   "display_name": "Python 3",
   "language": "python",
   "name": "python3"
  },
  "language_info": {
   "codemirror_mode": {
    "name": "ipython",
    "version": 3
   },
   "file_extension": ".py",
   "mimetype": "text/x-python",
   "name": "python",
   "nbconvert_exporter": "python",
   "pygments_lexer": "ipython3",
   "version": "3.6.9"
  }
 },
 "nbformat": 4,
 "nbformat_minor": 4
}
